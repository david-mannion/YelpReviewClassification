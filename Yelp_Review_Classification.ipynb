{
 "cells": [
  {
   "cell_type": "markdown",
   "metadata": {},
   "source": [
    "The objective of this assignment is to scrape consumer reviews from a set of web\n",
    "pages and to evaluate the performance of text classification algorithms on the data.\n",
    "The reviews have been divided into seven categories here:\n",
    "http://mlg.ucd.ie/modules/yalp\n",
    "Each review has a star rating. For this assignment, we will assume that 1-star to\n",
    "3-star reviews are “negative”, and 4-star to 5-star reviews are “positive”.\n",
    "The assignment should be implemented as a single Jupyter Notebook (not a script).\n",
    "Your notebook should be clearly documented, using comments and Markdown cells to\n",
    "explain the code and results.\n"
   ]
  },
  {
   "cell_type": "markdown",
   "metadata": {},
   "source": [
    "##### 1. Select three review categories of your choice. Scrape all reviews for each category and store them as three separate datasets. For each review, you should store the review text and a class label (i.e. whether the review is “positive” or “negative”).\n"
   ]
  },
  {
   "cell_type": "markdown",
   "metadata": {},
   "source": [
    "#### Using Beautiful soup"
   ]
  },
  {
   "cell_type": "code",
   "execution_count": 1,
   "metadata": {},
   "outputs": [],
   "source": [
    "import pandas as pd\n",
    "import numpy as np"
   ]
  },
  {
   "cell_type": "markdown",
   "metadata": {},
   "source": [
    "Setting up a connection with the webpage to scrape from, 'http://mlg.ucd.ie/modules/yalp/'.\n",
    "\n",
    "Then using the BeautifulSoup Package along with requests to strip the category names from the website."
   ]
  },
  {
   "cell_type": "code",
   "execution_count": 2,
   "metadata": {},
   "outputs": [
    {
     "name": "stdout",
     "output_type": "stream",
     "text": [
      "Category: Automotive(132 businesses)\n",
      "Category: Cafes(96 businesses)\n",
      "Category: Fashion(159 businesses)\n",
      "Category: Gym(122 businesses)\n",
      "Category: Hair and Salons(143 businesses)\n",
      "Category: Hotels(113 businesses)\n",
      "Category: Restaurants(100 businesses)\n"
     ]
    }
   ],
   "source": [
    "import requests\n",
    "cats = []\n",
    "\n",
    "link = 'http://mlg.ucd.ie/modules/yalp/'\n",
    "r = requests.get(link)\n",
    "if r.status_code == 200:\n",
    "    html = r.content\n",
    "\n",
    "import bs4 # importing the beautiful soup module\n",
    "parser = bs4.BeautifulSoup(html,'html.parser') \n",
    "for match in parser.find_all('h4'): #Finds all sub headings with label h4 in HTML\n",
    "    text = match.get_text(strip = True) #strip = True removes unicode characters\n",
    "    print(text)\n",
    "    start = text.find(': ') + 2\n",
    "    end  = text.find(\"(\")\n",
    "\n",
    "    cats.append(text[start:end])\n",
    "    "
   ]
  },
  {
   "cell_type": "markdown",
   "metadata": {},
   "source": [
    "Confirming the Categories have been Added to the cats list correctly"
   ]
  },
  {
   "cell_type": "code",
   "execution_count": 3,
   "metadata": {},
   "outputs": [
    {
     "data": {
      "text/plain": [
       "['Automotive',\n",
       " 'Cafes',\n",
       " 'Fashion',\n",
       " 'Gym',\n",
       " 'Hair and Salons',\n",
       " 'Hotels',\n",
       " 'Restaurants']"
      ]
     },
     "execution_count": 3,
     "metadata": {},
     "output_type": "execute_result"
    }
   ],
   "source": [
    "cats"
   ]
  },
  {
   "cell_type": "markdown",
   "metadata": {},
   "source": [
    "Getting the link to each category's website where you can access their review data."
   ]
  },
  {
   "cell_type": "code",
   "execution_count": 4,
   "metadata": {},
   "outputs": [
    {
     "data": {
      "text/plain": [
       "{'Automotive': 'http://mlg.ucd.ie/modules/yalp/automotive_list.html',\n",
       " 'Cafes': 'http://mlg.ucd.ie/modules/yalp/cafes_list.html',\n",
       " 'Fashion': 'http://mlg.ucd.ie/modules/yalp/fashion_list.html',\n",
       " 'Gym': 'http://mlg.ucd.ie/modules/yalp/gym_list.html',\n",
       " 'Hair and Salons': 'http://mlg.ucd.ie/modules/yalp/hair_salons_list.html',\n",
       " 'Hotels': 'http://mlg.ucd.ie/modules/yalp/hotels_list.html',\n",
       " 'Restaurants': 'http://mlg.ucd.ie/modules/yalp/restaurants_list.html'}"
      ]
     },
     "execution_count": 4,
     "metadata": {},
     "output_type": "execute_result"
    }
   ],
   "source": [
    "links = []\n",
    "parser = bs4.BeautifulSoup(html,'html.parser')\n",
    "for match in parser.find_all('a'): # a's in html contain links\n",
    "    lk = match.get('href') #finding all links that have the tag href\n",
    "    if lk != 'index.html':\n",
    "        links.append(link  + lk) #adding each link to a list of links\n",
    "    \n",
    "links_dict = dict(zip(cats,links)) # making a dictionary of the links for each genre\n",
    "links_dict"
   ]
  },
  {
   "cell_type": "markdown",
   "metadata": {},
   "source": [
    "The get_review_data function gets review data on company name, State, Star Rating and review text for \n",
    "a given category\n",
    "\n",
    "It returns the data in a Pandas DataFrame object"
   ]
  },
  {
   "cell_type": "code",
   "execution_count": 5,
   "metadata": {},
   "outputs": [],
   "source": [
    "def get_review_data(category): # gets review data for a certain category\n",
    "    links = []\n",
    "    linky = links_dict[category]\n",
    "    r = requests.get(linky)\n",
    "    if r.status_code == 200:\n",
    "        html = r.content\n",
    "\n",
    "    parser = bs4.BeautifulSoup(html,'html.parser')\n",
    "\n",
    "    for match in parser.find_all('a'):\n",
    "        lk = match.get('href')\n",
    "        if lk != 'index.html':\n",
    "            links.append(link + lk)\n",
    "            \n",
    "    company_name = []\n",
    "    review_state = []\n",
    "    review_texts = []\n",
    "    review_stars = []\n",
    "            \n",
    "    for linky in links:\n",
    "        r = requests.get(linky)\n",
    "        if r.status_code == 200:\n",
    "            html = r.content\n",
    "        parser = bs4.BeautifulSoup(html,'html.parser')\n",
    "\n",
    "        for lineo in parser.find_all('p', class_ = 'review-text'): # gets the review text\n",
    "            review_texts.append(lineo.text)\n",
    "\n",
    "        for lineo in parser.find_all('p', class_ = 'rating'): # gets number of stars\n",
    "            review_stars.append(lineo.img.get('alt').strip())\n",
    "            review_state.append(parser.find_all('p', class_ = 'details')[0].get_text()[-2:]) # gets the review state(i.e. location)\n",
    "            company_name.append(parser.find('h3').text.strip('Yalp — ')) #gets the company name\n",
    "    \n",
    "    df = pd.DataFrame({'Company':company_name , 'State':review_state, 'Stars':review_stars, 'Review':review_texts})\n",
    "    df['Rating'] = np.where((df['Stars'] == '5-star') |(df['Stars'] == '4-star'),'Positive','Negative') # converting stars to postive or negative\n",
    "    return df\n"
   ]
  },
  {
   "cell_type": "markdown",
   "metadata": {},
   "source": [
    "The idea behind getting the company name and state is that it may be useful to have\n",
    "them if you wanted to build a classifer using more than just the review data."
   ]
  },
  {
   "cell_type": "markdown",
   "metadata": {},
   "source": [
    "Storing the downloaded data for each chosen category in CSV format for safekeeping"
   ]
  },
  {
   "cell_type": "code",
   "execution_count": 6,
   "metadata": {},
   "outputs": [],
   "source": [
    "picks = ['Automotive','Gym','Hotels']\n",
    "for pick in picks:\n",
    "    get_review_data(pick).to_csv(pick+'_review_data.csv',index = False)"
   ]
  },
  {
   "cell_type": "code",
   "execution_count": 7,
   "metadata": {},
   "outputs": [],
   "source": [
    "auto = pd.read_csv('Automotive_review_data.csv')\n",
    "gym = pd.read_csv('Gym_review_data.csv')\n",
    "hotel = pd.read_csv('Hotels_review_data.csv')"
   ]
  },
  {
   "cell_type": "markdown",
   "metadata": {},
   "source": [
    "Loading the data back up from the CSV Files"
   ]
  },
  {
   "cell_type": "code",
   "execution_count": 8,
   "metadata": {
    "scrolled": true
   },
   "outputs": [
    {
     "data": {
      "text/html": [
       "<div>\n",
       "<style scoped>\n",
       "    .dataframe tbody tr th:only-of-type {\n",
       "        vertical-align: middle;\n",
       "    }\n",
       "\n",
       "    .dataframe tbody tr th {\n",
       "        vertical-align: top;\n",
       "    }\n",
       "\n",
       "    .dataframe thead th {\n",
       "        text-align: right;\n",
       "    }\n",
       "</style>\n",
       "<table border=\"1\" class=\"dataframe\">\n",
       "  <thead>\n",
       "    <tr style=\"text-align: right;\">\n",
       "      <th></th>\n",
       "      <th>Company</th>\n",
       "      <th>State</th>\n",
       "      <th>Stars</th>\n",
       "      <th>Review</th>\n",
       "      <th>Rating</th>\n",
       "    </tr>\n",
       "  </thead>\n",
       "  <tbody>\n",
       "    <tr>\n",
       "      <th>0</th>\n",
       "      <td>'Round Table Tours</td>\n",
       "      <td>QC</td>\n",
       "      <td>5-star</td>\n",
       "      <td>Melissa took us on a tour of Asia in the space...</td>\n",
       "      <td>Positive</td>\n",
       "    </tr>\n",
       "    <tr>\n",
       "      <th>1</th>\n",
       "      <td>'Round Table Tours</td>\n",
       "      <td>QC</td>\n",
       "      <td>5-star</td>\n",
       "      <td>With a group of seven of us visiting Montreal ...</td>\n",
       "      <td>Positive</td>\n",
       "    </tr>\n",
       "    <tr>\n",
       "      <th>2</th>\n",
       "      <td>'Round Table Tours</td>\n",
       "      <td>QC</td>\n",
       "      <td>5-star</td>\n",
       "      <td>Melissa is a gem! My fiancé found her tour on ...</td>\n",
       "      <td>Positive</td>\n",
       "    </tr>\n",
       "    <tr>\n",
       "      <th>3</th>\n",
       "      <td>'Round Table Tours</td>\n",
       "      <td>QC</td>\n",
       "      <td>5-star</td>\n",
       "      <td>A perfect day in Montreal! Melissa outfitted u...</td>\n",
       "      <td>Positive</td>\n",
       "    </tr>\n",
       "    <tr>\n",
       "      <th>4</th>\n",
       "      <td>'Round Table Tours</td>\n",
       "      <td>QC</td>\n",
       "      <td>5-star</td>\n",
       "      <td>I had a really great food truck tour with Meli...</td>\n",
       "      <td>Positive</td>\n",
       "    </tr>\n",
       "  </tbody>\n",
       "</table>\n",
       "</div>"
      ],
      "text/plain": [
       "              Company State   Stars  \\\n",
       "0  'Round Table Tours    QC  5-star   \n",
       "1  'Round Table Tours    QC  5-star   \n",
       "2  'Round Table Tours    QC  5-star   \n",
       "3  'Round Table Tours    QC  5-star   \n",
       "4  'Round Table Tours    QC  5-star   \n",
       "\n",
       "                                              Review    Rating  \n",
       "0  Melissa took us on a tour of Asia in the space...  Positive  \n",
       "1  With a group of seven of us visiting Montreal ...  Positive  \n",
       "2  Melissa is a gem! My fiancé found her tour on ...  Positive  \n",
       "3  A perfect day in Montreal! Melissa outfitted u...  Positive  \n",
       "4  I had a really great food truck tour with Meli...  Positive  "
      ]
     },
     "execution_count": 8,
     "metadata": {},
     "output_type": "execute_result"
    }
   ],
   "source": [
    "hotel.head()"
   ]
  },
  {
   "cell_type": "markdown",
   "metadata": {},
   "source": [
    "Printing the first five rows of 'hotels' to verify the data has been scraped, saved and loaded correctly."
   ]
  },
  {
   "cell_type": "markdown",
   "metadata": {},
   "source": [
    "#### 2. For each of the three category datasets:\n",
    "\n",
    "##### a. From the reviews in this category, apply appropriate preprocessing steps to create a numeric representation of the data, suitable for classification.\n",
    "\n"
   ]
  },
  {
   "cell_type": "code",
   "execution_count": 9,
   "metadata": {},
   "outputs": [],
   "source": [
    "from sklearn.feature_extraction.text import CountVectorizer\n",
    "from nltk.stem.porter import PorterStemmer\n",
    "from nltk.stem.snowball import SnowballStemmer\n",
    "from nltk.stem import WordNetLemmatizer\n",
    "from sklearn.feature_extraction.text import TfidfVectorizer\n",
    "\n",
    "\n",
    "def text_preprocesser(data, fiton): # fiton specifies what data to fit the pre processor on\n",
    "    documents = pd.DataFrame(data['Review'])\n",
    "    \n",
    "    #removing numbers\n",
    "    documents['Review'] = documents['Review'].str.replace(r'\\d+','')\n",
    "    \n",
    "    #Make the review data Lower case\n",
    "    documents['Review'] = documents['Review'].str.lower()\n",
    "    \n",
    "    #Filtering out stop words\n",
    "    vectorizer = CountVectorizer(stop_words = 'english')\n",
    "    tokenize = vectorizer.build_tokenizer()\n",
    "    documents['Review'] = documents['Review'].apply(tokenize)\n",
    "    \n",
    "    #Stemming the text data\n",
    "    stemmer = SnowballStemmer('english') # snowball stemmer is said to be better than PorterStemmer\n",
    "    documents['Review'] = documents['Review'].apply(lambda x: [stemmer.stem(y) for y in x])\n",
    "    \n",
    "    #Lemmatizing the data\n",
    "    lemmatizer = WordNetLemmatizer()\n",
    "    documents['Review'] = documents['Review'].apply(lambda x: [lemmatizer.lemmatize(y,'v') for y in x])\n",
    "    documents['Review'] = documents['Review'].apply(lambda x:' '.join([str(elm) for elm in x]))\n",
    "\n",
    "    #Performing TfidfVectorization\n",
    "    vectorizer = TfidfVectorizer(sublinear_tf = True,min_df = 5,\n",
    "                                 encoding = 'latin-1',ngram_range = (1,2),stop_words = 'english')\n",
    "    \n",
    "    vectorizer = vectorizer.fit(fiton['Review'])\n",
    "    X = vectorizer.transform(documents['Review'])\n",
    "    \n",
    "    df = pd.DataFrame(X.todense(), columns = vectorizer.get_feature_names())\n",
    "    return df\n",
    "    \n",
    "    "
   ]
  },
  {
   "cell_type": "markdown",
   "metadata": {},
   "source": [
    "The text_preprocessor function turns raw text data into a Document Term matrix suitable for\n",
    "feeding into classifier objects.\n",
    "\n",
    "Text Preprocessing is an important step in the overall model building process.\n",
    "Text data is unstructured, which means it is very diffiult for ordinary classification \n",
    "Algorithms to accuractely model it without some preprocessing done first.\n",
    "\n",
    "We remove numbers as they usually are not relevant to the overall sentiment of a text data cell,\n",
    "and hence just serve to add noise and reduce accuracy. \n",
    "The same can be said for symbols like £$%^ which are filtered out\n",
    "\n",
    "Filtering out stop words is important. Stop words are words like 'and' , 'as' , 'it' etc \n",
    "and are the most common words in the english language. Leaving them in would only serve to reduce accuracy because all reviews are likely to have a lot of these words, making it appear to the classification algorithm that reviews are more similar than they actually are.\n",
    "\n",
    "Stemming just removes or stems the last few characters of a word.\n",
    "Lemmatization considers the context and converts the word to its meaningful base form.\n",
    "\n",
    "They are important as a word such as cycled and cycle would appear to be completely different words to a classification algortihm, but stemming and lemmatizing would convert both to something like cycl, which helps increase classification accuracy as they now share a common word.\n",
    "\n",
    "Tfidf vectorization puts a weight on each word and also creates word pairs for each word in the text data.\n",
    "\n",
    "\n",
    "Details on snowball stemmer: https://www.nltk.org/howto/stem.html\n",
    "\n"
   ]
  },
  {
   "cell_type": "code",
   "execution_count": 10,
   "metadata": {},
   "outputs": [],
   "source": [
    "cats = (auto,gym,hotel)\n",
    "cats_dict = dict(zip(picks,cats))\n",
    "\n",
    "for cat in cats_dict.keys():\n",
    "    text_preprocesser(cats_dict[cat],cats_dict[cat]).to_csv(cat+'_preprocessed_review_data.csv',index = False)\n",
    "    "
   ]
  },
  {
   "cell_type": "markdown",
   "metadata": {},
   "source": [
    "Writing the data to CSV files for safekeeping"
   ]
  },
  {
   "cell_type": "code",
   "execution_count": 11,
   "metadata": {},
   "outputs": [],
   "source": [
    "auto_pp = pd.read_csv('Automotive_preprocessed_review_data.csv')\n",
    "gym_pp = pd.read_csv('Gym_preprocessed_review_data.csv')\n",
    "hotel_pp = pd.read_csv('Hotels_preprocessed_review_data.csv')\n",
    "\n",
    "datasets = (auto_pp,gym_pp,hotel_pp)"
   ]
  },
  {
   "cell_type": "markdown",
   "metadata": {},
   "source": [
    "##### b. Build a classification model to distinguish between “positive” and “negative” reviews using one of the following classifiers: Naive Bayes, Logistic Regression, Random Forests\n",
    "\n"
   ]
  },
  {
   "cell_type": "code",
   "execution_count": 12,
   "metadata": {},
   "outputs": [],
   "source": [
    "from sklearn.metrics import accuracy_score\n",
    "from sklearn.model_selection import KFold\n",
    "from sklearn.model_selection import cross_validate\n",
    "from sklearn.model_selection import cross_val_score\n",
    "from collections import Counter\n",
    "from sklearn.metrics import make_scorer\n",
    "from sklearn.metrics import f1_score\n",
    "\n",
    "\n",
    "def bias(y_test,y_pred):\n",
    "    min_class = Counter(y_test).most_common()[-1][0]\n",
    "    return Counter(y_pred)[min_class]/Counter(y_test)[min_class] \n"
   ]
  },
  {
   "cell_type": "markdown",
   "metadata": {},
   "source": [
    "Defining a Function for estimating Bias.\n",
    "Bias is when a Machine Learning Algorithm Under predicts a minority class due to it having a \n",
    "relitvely low count compared to the majority class."
   ]
  },
  {
   "cell_type": "code",
   "execution_count": 14,
   "metadata": {},
   "outputs": [],
   "source": [
    "def simulate_cross_val(num_sims,models, X, y):\n",
    "    \n",
    "    acc = np.zeros((num_sims, len(models)))\n",
    "    f1 = np.zeros((num_sims, len(models)))\n",
    "    bias_scores = np.zeros((num_sims, len(models)))\n",
    "    \n",
    "    scoring = {'accuracy':make_scorer(accuracy_score) , 'bias' : make_scorer(bias),\n",
    "              'f1-score':make_scorer(f1_score)}\n",
    "    \n",
    "    cv = KFold(n_splits = 10, shuffle = True)\n",
    "    \n",
    "    for i in range(num_sims):\n",
    "        j = 0\n",
    "        for model in models:\n",
    "            scores = cross_validate(model,X,y,scoring = scoring , cv = cv)\n",
    "            acc[i,j] = np.mean(scores['test_accuracy'])\n",
    "            f1[i,j] = np.mean(scores['test_f1-score'])\n",
    "            bias_scores[i,j] = np.mean(scores['test_bias'])\n",
    "            \n",
    "            j += 1\n",
    "    store = pd.DataFrame(columns = [type(m).__name__ for m in models])\n",
    "    store.loc['Accuracy',:] = np.mean(acc,axis = 0)\n",
    "    store.loc['f1-score',:] = np.mean(f1,axis = 0)\n",
    "    store.loc['Bias',:] = np.mean(bias_scores,axis = 0)\n",
    "    store.sort_values(by = 'Accuracy', axis = 1, ascending = False, inplace = True)\n",
    "    \n",
    "    return store"
   ]
  },
  {
   "cell_type": "markdown",
   "metadata": {},
   "source": [
    "simulate_cross_val caluclates the accuracy, F1 and Bias scores for a given set of input classifiers.\n",
    "\n",
    "It simulates k fold cross validation a given number of times(num_sims) and gets the\n",
    "average of the cross validation scores.\n",
    "\n",
    "This produces more stable estimates for the scores, as one score on its own is more \n",
    "volatile than the mean of a large number of runs(approx 50)."
   ]
  },
  {
   "cell_type": "markdown",
   "metadata": {},
   "source": [
    "##### c. Test the predictions of the classification model using an appropriate evaluation strategy. Report and discuss the evaluation results in your notebook."
   ]
  },
  {
   "cell_type": "code",
   "execution_count": 15,
   "metadata": {},
   "outputs": [],
   "source": [
    "from sklearn.neighbors import KNeighborsClassifier\n",
    "from sklearn.naive_bayes import MultinomialNB, GaussianNB, BernoulliNB\n",
    "from sklearn.linear_model import LogisticRegression\n",
    "from sklearn.ensemble import RandomForestClassifier\n",
    "from sklearn.preprocessing import OrdinalEncoder\n",
    "\n",
    "mnb = MultinomialNB()\n",
    "gnb = GaussianNB()\n",
    "bnb = BernoulliNB()\n",
    "lreg = LogisticRegression(solver = 'lbfgs')\n",
    "rf = RandomForestClassifier()\n",
    "models = (mnb,gnb,bnb,lreg,rf)\n"
   ]
  },
  {
   "cell_type": "code",
   "execution_count": 16,
   "metadata": {},
   "outputs": [
    {
     "name": "stdout",
     "output_type": "stream",
     "text": [
      "******************************\n",
      "*******    Automotive  *******\n",
      "******************************\n",
      "         LogisticRegression RandomForestClassifier MultinomialNB BernoulliNB  \\\n",
      "Accuracy            0.88885                 0.8558        0.8478      0.8181   \n",
      "f1-score           0.910279               0.884472      0.884766    0.858586   \n",
      "Bias                0.92512               0.900732      0.714563    0.804705   \n",
      "\n",
      "         GaussianNB  \n",
      "Accuracy    0.77285  \n",
      "f1-score   0.801202  \n",
      "Bias        1.17348  \n"
     ]
    },
    {
     "data": {
      "image/png": "[encoded data removed]",
      "text/plain": [
       "<Figure size 432x288 with 1 Axes>"
      ]
     },
     "metadata": {
      "needs_background": "light"
     },
     "output_type": "display_data"
    },
    {
     "name": "stdout",
     "output_type": "stream",
     "text": [
      "******************************\n",
      "*******    Gym  *******\n",
      "******************************\n",
      "         LogisticRegression RandomForestClassifier BernoulliNB MultinomialNB  \\\n",
      "Accuracy            0.88865                0.86705      0.8487       0.84605   \n",
      "f1-score           0.917577               0.902832    0.888033      0.892577   \n",
      "Bias               0.838068               0.788842     0.83964       0.60561   \n",
      "\n",
      "         GaussianNB  \n",
      "Accuracy     0.7269  \n",
      "f1-score   0.762131  \n",
      "Bias        1.43314  \n"
     ]
    },
    {
     "data": {
      "image/png": "[encoded data removed]",
      "text/plain": [
       "<Figure size 432x288 with 1 Axes>"
      ]
     },
     "metadata": {
      "needs_background": "light"
     },
     "output_type": "display_data"
    },
    {
     "name": "stdout",
     "output_type": "stream",
     "text": [
      "******************************\n",
      "*******    Hotels  *******\n",
      "******************************\n",
      "         LogisticRegression RandomForestClassifier MultinomialNB BernoulliNB  \\\n",
      "Accuracy             0.8829                0.86475        0.8517     0.82315   \n",
      "f1-score           0.903951               0.889185       0.88371    0.858707   \n",
      "Bias               0.885285               0.881548      0.749123    0.811391   \n",
      "\n",
      "         GaussianNB  \n",
      "Accuracy      0.705  \n",
      "f1-score   0.716682  \n",
      "Bias        1.32317  \n"
     ]
    },
    {
     "data": {
      "image/png": "[encoded data removed]",
      "text/plain": [
       "<Figure size 432x288 with 1 Axes>"
      ]
     },
     "metadata": {
      "needs_background": "light"
     },
     "output_type": "display_data"
    }
   ],
   "source": [
    "import matplotlib.pyplot as plt\n",
    "\n",
    "i = 0\n",
    "for dataset in datasets:\n",
    "    print('*' *20)\n",
    "    print('***',picks[i],'***' )\n",
    "    print('*'*20)\n",
    "    X = dataset.values\n",
    "    y = cats[i]['Rating']\n",
    "    y = np.where(y == 'Positive',1,0)\n",
    "    scv = simulate_cross_val(10,models,X,y)\n",
    "    print(scv)\n",
    "    scv.plot.bar()\n",
    "    plt.ylabel('% Score')\n",
    "    plt.show()\n",
    "    i += 1\n"
   ]
  },
  {
   "cell_type": "markdown",
   "metadata": {},
   "source": [
    "Here 20 simulations are run for each cross fold. Running more simulations increases the accuracy\n",
    "of the accuracy, bias and f1 scores as they are an average not a single value.\n",
    "\n",
    "Increasing the number of simulations comes at a cost of longer computational time.\n",
    "\n",
    "Logistic regression is chosen as the classifier for all 3 of 'Automotive', 'Gym' and 'Hotel' as it has the highest accuracy and f1 scores, as well as a bias score closest to one in general.\n",
    "\n",
    "The bias scores should be near 1. The closer to 1 it is, the better the classifier is at predicting the correct amount of minority class correctly.\n",
    "\n",
    "As all the bias scores are quite close to 1, it is not given much consideration in selecting classifers - accuracy is more important in this case.\n",
    "I\n",
    "\n",
    "F1 score, the harmonic mean of precision and recall, could also be used to choose the most appropriate classifier.\n",
    "In this case there would be no difference in selecting models based on F1 or accuracy score\n"
   ]
  },
  {
   "cell_type": "markdown",
   "metadata": {},
   "source": [
    "### 3. Evaluate the performance of each of your three classification models when applied to data from the other two selected categories. That is, for the selected categories (A,B,C), run the experiments:\n",
    "\n",
    "#### a. Train a classification model on the data from “Category A”. \n",
    "Evaluate its performance on data from “Category B” and data from “Category C”.\n",
    "#### b. Train a classification model on the data from “Category B”. \n",
    "Evaluate its performance on data from “Category A” and data from “Category C”.\n",
    "#### c. Train a classification model on the data from “Category C”. \n",
    "Evaluate its performance on data from “Category A” and data from “Category B”."
   ]
  },
  {
   "cell_type": "code",
   "execution_count": 17,
   "metadata": {},
   "outputs": [
    {
     "name": "stdout",
     "output_type": "stream",
     "text": [
      "Category A:  Automotive\n",
      "Category B:  Gym\n",
      "Category C:  Hotels\n",
      "\n",
      "Accuracy,F1 Score of Automotive training data on  Hotels :  84.1 %, 87.1 %\n",
      "Accuracy,F1 Score of Automotive training data on  Gym :  85.2 %, 89.2 %\n",
      "Accuracy,F1 Score of Gym training data on  Automotive :  82.2 %, 84.4 %\n",
      "Accuracy,F1 Score of Gym training data on  Hotels :  83.7 %, 85.9 %\n",
      "Accuracy,F1 Score of Hotels training data on  Gym :  86.8 %, 90.2 %\n",
      "Accuracy,F1 Score of Hotels training data on  Automotive :  86.1 %, 88.0 %\n"
     ]
    }
   ],
   "source": [
    "from sklearn.metrics import f1_score\n",
    "from sklearn.metrics import roc_curve, auc\n",
    "print('Category A: ', picks[0])\n",
    "print('Category B: ', picks[1])\n",
    "print('Category C: ', picks[2])\n",
    "print()\n",
    "\n",
    "chosen_models = (lreg,lreg,lreg)\n",
    "models_dict = dict(zip(picks,chosen_models))\n",
    "\n",
    "results = np.array((2*len(datasets),4))\n",
    "i = 0\n",
    "\n",
    "rocs = pd.DataFrame(index = ['fpr','tpr'])\n",
    "\n",
    "for i in range(len(datasets)):\n",
    "    X = datasets[i].values\n",
    "    y = cats[i]['Rating']\n",
    "    y = np.where(y == 'Positive',1,0)\n",
    "    \n",
    "    for j in [1,2]:\n",
    "        \n",
    "        clf = models_dict[picks[i]].fit(X,y)\n",
    "        predict_data = text_preprocesser(cats[i-j], fiton = cats[i]) # creating a matrix of vector terms, fitting on the train data and transforming the test data\n",
    "        y1 = np.where(cats[i-j]['Rating'] == 'Positive',1,0)\n",
    "        \n",
    "        y_pred = clf.predict(predict_data)\n",
    "        y_score = clf.predict_proba(predict_data) # Propabilities for the ROC Curve\n",
    "        \n",
    "        fpr, tpr, t = roc_curve(y1, y_score[:,1]) # calculating false positive and false negative rates\n",
    "        rocs[picks[i] + ' on ' + picks[i-j]] = [fpr,tpr]\n",
    "        \n",
    "        print('Accuracy,F1 Score of',picks[i],'training data on ', picks[i-j],': ', round(100*accuracy_score(y1,y_pred),1),'%,', round(100*f1_score(y1,y_pred),1),'%')\n",
    "    \n",
    "    "
   ]
  },
  {
   "cell_type": "markdown",
   "metadata": {},
   "source": [
    "The ability of the classifiers to predict unseen data is tested here.\n",
    "\n",
    "We see that all the classifiers from each dataset produce high degrees of accuracy, with an average of ~85%\n",
    "The F1-Scores are also high showing the model has good precision and recall scores as well.\n",
    "\n"
   ]
  },
  {
   "cell_type": "code",
   "execution_count": 18,
   "metadata": {},
   "outputs": [
    {
     "data": {
      "text/plain": [
       "array([[ 700,   88],\n",
       "       [ 191, 1021]], dtype=int64)"
      ]
     },
     "execution_count": 18,
     "metadata": {},
     "output_type": "execute_result"
    }
   ],
   "source": [
    "from sklearn.metrics import confusion_matrix\n",
    "confusion_matrix(y1,y_pred)"
   ]
  },
  {
   "cell_type": "markdown",
   "metadata": {},
   "source": [
    "Plotting a confusion matrix for  Hotels training data on  Automotive"
   ]
  },
  {
   "cell_type": "code",
   "execution_count": 19,
   "metadata": {},
   "outputs": [
    {
     "data": {
      "image/png": "[encoded data removed]",
      "text/plain": [
       "<Figure size 432x288 with 1 Axes>"
      ]
     },
     "metadata": {
      "needs_background": "light"
     },
     "output_type": "display_data"
    },
    {
     "data": {
      "image/png": "[encoded data removed]",
      "text/plain": [
       "<Figure size 432x288 with 1 Axes>"
      ]
     },
     "metadata": {
      "needs_background": "light"
     },
     "output_type": "display_data"
    },
    {
     "data": {
      "image/png": "[encoded data removed]",
      "text/plain": [
       "<Figure size 432x288 with 1 Axes>"
      ]
     },
     "metadata": {
      "needs_background": "light"
     },
     "output_type": "display_data"
    }
   ],
   "source": [
    "import matplotlib as mpl\n",
    "mpl.style.use('bmh')\n",
    "def plot_ROC(df,no_plots):\n",
    "    count = 0\n",
    "    for i in range(0,no_plots*2,2):\n",
    "\n",
    "        fpr = df.iloc[0,i]\n",
    "        tpr = df.iloc[1,i]\n",
    "\n",
    "        plt.figure()\n",
    "        lw = 2\n",
    "        plt.plot(fpr, tpr,\n",
    "                 lw=lw, label='ROC of ' + df.columns[count] + '(area = %0.2f)' % auc(fpr, tpr))\n",
    "        count += 1\n",
    "\n",
    "        fpr = df.iloc[0,i+1]\n",
    "        tpr = df.iloc[1,i+1]\n",
    "    \n",
    "        plt.plot(fpr, tpr,\n",
    "                 lw=lw, label= 'ROC of ' + df.columns[count] + '(area = %0.2f)' % auc(fpr, tpr))\n",
    "        count += 1\n",
    "\n",
    "        plt.plot([0, 1], [0, 1], lw=lw, linestyle='--')\n",
    "        plt.xlim([0.0, 1.0])\n",
    "        plt.ylim([0.0, 1.0])\n",
    "        \n",
    "        plt.xlabel('False Positive Rate')\n",
    "        plt.ylabel('True Positive Rate')\n",
    "        plt.title('ROC Analysis for Review data')\n",
    "        plt.legend(loc=\"lower right\")\n",
    "        plt.show()\n",
    "        \n",
    "plot_ROC(rocs,3)"
   ]
  },
  {
   "cell_type": "markdown",
   "metadata": {},
   "source": [
    "ROC Curves are a effective method of analysing the performance of a classification result. \n",
    "\n",
    "The closer to the upper left hand corner of the plot the red/blue lines are, the better fit to the data they provide.\n",
    "The dotted line shows the ROC of a random selection process.\n",
    "\n",
    "It is clear from the above plots our classifiers do a good job of prediciting unseen data.\n",
    "\n",
    "The higher the AUC(area under curve), the better the fit.\n",
    "We see here that the ROC AUC values all have a value close to 1, meaning that the models fit the data well.\n",
    "\n"
   ]
  },
  {
   "cell_type": "markdown",
   "metadata": {},
   "source": [
    "##### Conclusion\n",
    "\n",
    "With the right preprocessing, we can build very accurate models to predict the sentiment of reviews from the Yelp! website.\n",
    "\n",
    "It appears that reviewers generally use the same core words or pairs of words when leaving reviews.\n",
    "\n",
    "We see that the genre of service, whether it is auto, gym or hotels does't make much difference in the predictive power \n",
    "of the data - we can predict other genres with a high level of accuracy. \n",
    "\n"
   ]
  }
 ],
 "metadata": {
  "kernelspec": {
   "display_name": "Python 3",
   "language": "python",
   "name": "python3"
  },
  "language_info": {
   "codemirror_mode": {
    "name": "ipython",
    "version": 3
   },
   "file_extension": ".py",
   "mimetype": "text/x-python",
   "name": "python",
   "nbconvert_exporter": "python",
   "pygments_lexer": "ipython3",
   "version": "3.8.3"
  }
 },
 "nbformat": 4,
 "nbformat_minor": 4
}
